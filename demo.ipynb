{
 "cells": [
  {
   "attachments": {},
   "cell_type": "markdown",
   "metadata": {},
   "source": [
    "# Sudoku Solver using Simulated Annealing Algorithm\n",
    "\n",
    "This Notebook contains the implementation of Sudoku Solver using Simulated Annealing Algorithm."
   ]
  },
  {
   "cell_type": "code",
   "execution_count": 1,
   "metadata": {},
   "outputs": [],
   "source": [
    "from SudokuSolverAnnealing import SudokuSolverAnnealing"
   ]
  },
  {
   "attachments": {},
   "cell_type": "markdown",
   "metadata": {},
   "source": [
    "## Sudoku Puzzle\n",
    "Let's create the Sudoku board we want to solve:"
   ]
  },
  {
   "cell_type": "code",
   "execution_count": 2,
   "metadata": {},
   "outputs": [],
   "source": [
    "board = [[0,0,0,0,8,0,9,6,2],\n",
    "         [0,0,8,5,1,0,0,0,0],\n",
    "         [0,6,0,0,9,0,1,0,0],\n",
    "         [0,8,4,1,6,9,7,0,3],\n",
    "         [3,0,0,7,0,0,2,1,0],\n",
    "         [0,0,7,0,2,0,4,0,0],\n",
    "         [0,0,1,2,7,5,6,4,0],\n",
    "         [0,7,2,9,0,0,0,0,1],\n",
    "         [5,4,0,6,0,0,8,0,0]]"
   ]
  },
  {
   "attachments": {},
   "cell_type": "markdown",
   "metadata": {},
   "source": [
    "## Solve Sudoku\n",
    "We create an instance of SudokuSolverAnnealing class with the board, then we call the solve_sudoku() method to solve the puzzle."
   ]
  },
  {
   "cell_type": "code",
   "execution_count": 3,
   "metadata": {},
   "outputs": [
    {
     "name": "stdout",
     "output_type": "stream",
     "text": [
      "\n",
      "Solving Sudoku board...\n",
      "\n",
      "\n",
      "Sudoku solved!\n",
      "\n",
      "Iterations: 4415\n",
      "Temperature: 0.007240720242404711\n",
      "\n"
     ]
    }
   ],
   "source": [
    "solver = SudokuSolverAnnealing(board)\n",
    "solution = solver.solve_sudoku()"
   ]
  },
  {
   "attachments": {},
   "cell_type": "markdown",
   "metadata": {},
   "source": [
    "## Print Solution\n",
    "We use the print_sudoku() method to print the solution."
   ]
  },
  {
   "cell_type": "code",
   "execution_count": 4,
   "metadata": {},
   "outputs": [
    {
     "name": "stdout",
     "output_type": "stream",
     "text": [
      "4 1 5 |3 8 7 |9 6 2\n",
      "9 2 8 |5 1 6 |3 7 4\n",
      "7 6 3 |4 9 2 |1 8 5\n",
      "- - - - - - - - - - - - - \n",
      "2 8 4 |1 6 9 |7 5 3\n",
      "3 9 6 |7 5 4 |2 1 8\n",
      "1 5 7 |8 2 3 |4 9 6\n",
      "- - - - - - - - - - - - - \n",
      "8 3 1 |2 7 5 |6 4 9\n",
      "6 7 2 |9 4 8 |5 3 1\n",
      "5 4 9 |6 3 1 |8 2 7\n"
     ]
    }
   ],
   "source": [
    "solver.print_sudoku(solution)"
   ]
  }
 ],
 "metadata": {
  "kernelspec": {
   "display_name": "Python 3",
   "language": "python",
   "name": "python3"
  },
  "language_info": {
   "codemirror_mode": {
    "name": "ipython",
    "version": 3
   },
   "file_extension": ".py",
   "mimetype": "text/x-python",
   "name": "python",
   "nbconvert_exporter": "python",
   "pygments_lexer": "ipython3",
   "version": "3.10.7"
  },
  "orig_nbformat": 4
 },
 "nbformat": 4,
 "nbformat_minor": 2
}
